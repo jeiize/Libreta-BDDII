{
 "cells": [
  {
   "cell_type": "markdown",
   "id": "cca85ce3",
   "metadata": {},
   "source": [
    "<img width=200 height=250 align=center src=\"logouniversidad.png\">\n",
    " \n",
    "<h3 align=\"center\">                                              Bases de Datos II</h3> \n",
    "\n",
    "Alumnos:\n",
    "* Oscar Rene Soto Sánchez \n",
    "* Juan Carlos Rojas Coffey \n",
    "* Jesús Armando Báez Camacho\n"
   ]
  },
  {
   "cell_type": "markdown",
   "id": "9695386d",
   "metadata": {},
   "source": [
    "# Ventas Internacionales en Sonora (2021)\n",
    "\n",
    "<p style=\"text-align: justify;\"> Este proyecto busca contrastar el tipo de ventas y comercio realizado en el Estado de Sonora durante el año pasado, justo despues de salir de una pandemia que duro 2 años, y contrastar los datos de las ventas con los estados del pais con economias mas fuertes. </p>\n",
    "\n",
    "La base de datos utilizada la encontramos en datamexico.org.\n",
    "\n",
    "Se pretenden utilizar 4 tablas de datos diferentes, de 4 estados de la republica que representan las ventas internacionales realizadas en el periodo de 2021. \n",
    "\n",
    "* Sonora:https://datamexico.org/es/profile/geo/sonora-so\n",
    "* Nuevo Leon: https://datamexico.org/es/profile/geo/nuevo-leon-nl\n",
    "* Ciudad de Mexico: https://datamexico.org/es/profile/geo/ciudad-de-mexico-cx\n",
    "* Jalisco:https://datamexico.org/es/profile/geo/jalisco-jc\n",
    "\n",
    "De las 4 tablas construimos una sola, para metodos practicos, con la ayuda de la herramienta VizBuilder que ofrece la pagina de DataMexico.\n",
    "\n",
    "* Fuente: https://datamexico.org/es/vizbuilder"
   ]
  },
  {
   "cell_type": "code",
   "execution_count": 53,
   "id": "7e962b1c",
   "metadata": {},
   "outputs": [
    {
     "data": {
      "text/html": [
       "<div>\n",
       "<style scoped>\n",
       "    .dataframe tbody tr th:only-of-type {\n",
       "        vertical-align: middle;\n",
       "    }\n",
       "\n",
       "    .dataframe tbody tr th {\n",
       "        vertical-align: top;\n",
       "    }\n",
       "\n",
       "    .dataframe thead th {\n",
       "        text-align: right;\n",
       "    }\n",
       "</style>\n",
       "<table border=\"1\" class=\"dataframe\">\n",
       "  <thead>\n",
       "    <tr style=\"text-align: right;\">\n",
       "      <th></th>\n",
       "      <th>Flow ID</th>\n",
       "      <th>Flow</th>\n",
       "      <th>HS4 4 Digit ID</th>\n",
       "      <th>HS4 4 Digit</th>\n",
       "      <th>Date Year</th>\n",
       "      <th>State ID</th>\n",
       "      <th>State</th>\n",
       "      <th>Chapter 4 Digit ID</th>\n",
       "      <th>Chapter 4 Digit</th>\n",
       "      <th>Trade Value</th>\n",
       "    </tr>\n",
       "  </thead>\n",
       "  <tbody>\n",
       "    <tr>\n",
       "      <th>0</th>\n",
       "      <td>2</td>\n",
       "      <td>Exports</td>\n",
       "      <td>10101</td>\n",
       "      <td>Horses, Asses, Mules and Hinnies</td>\n",
       "      <td>2021</td>\n",
       "      <td>26</td>\n",
       "      <td>Sonora</td>\n",
       "      <td>1</td>\n",
       "      <td>Animal Products</td>\n",
       "      <td>85204</td>\n",
       "    </tr>\n",
       "    <tr>\n",
       "      <th>1</th>\n",
       "      <td>2</td>\n",
       "      <td>Exports</td>\n",
       "      <td>10102</td>\n",
       "      <td>Live Animals of the Bovine Species</td>\n",
       "      <td>2021</td>\n",
       "      <td>9</td>\n",
       "      <td>Ciudad de México</td>\n",
       "      <td>1</td>\n",
       "      <td>Animal Products</td>\n",
       "      <td>2858060</td>\n",
       "    </tr>\n",
       "    <tr>\n",
       "      <th>2</th>\n",
       "      <td>2</td>\n",
       "      <td>Exports</td>\n",
       "      <td>10102</td>\n",
       "      <td>Live Animals of the Bovine Species</td>\n",
       "      <td>2021</td>\n",
       "      <td>14</td>\n",
       "      <td>Jalisco</td>\n",
       "      <td>1</td>\n",
       "      <td>Animal Products</td>\n",
       "      <td>412094</td>\n",
       "    </tr>\n",
       "    <tr>\n",
       "      <th>3</th>\n",
       "      <td>2</td>\n",
       "      <td>Exports</td>\n",
       "      <td>10102</td>\n",
       "      <td>Live Animals of the Bovine Species</td>\n",
       "      <td>2021</td>\n",
       "      <td>19</td>\n",
       "      <td>Nuevo León</td>\n",
       "      <td>1</td>\n",
       "      <td>Animal Products</td>\n",
       "      <td>6916241</td>\n",
       "    </tr>\n",
       "    <tr>\n",
       "      <th>4</th>\n",
       "      <td>2</td>\n",
       "      <td>Exports</td>\n",
       "      <td>10102</td>\n",
       "      <td>Live Animals of the Bovine Species</td>\n",
       "      <td>2021</td>\n",
       "      <td>26</td>\n",
       "      <td>Sonora</td>\n",
       "      <td>1</td>\n",
       "      <td>Animal Products</td>\n",
       "      <td>87167022</td>\n",
       "    </tr>\n",
       "    <tr>\n",
       "      <th>...</th>\n",
       "      <td>...</td>\n",
       "      <td>...</td>\n",
       "      <td>...</td>\n",
       "      <td>...</td>\n",
       "      <td>...</td>\n",
       "      <td>...</td>\n",
       "      <td>...</td>\n",
       "      <td>...</td>\n",
       "      <td>...</td>\n",
       "      <td>...</td>\n",
       "    </tr>\n",
       "    <tr>\n",
       "      <th>2628</th>\n",
       "      <td>2</td>\n",
       "      <td>Exports</td>\n",
       "      <td>219701</td>\n",
       "      <td>Paintings and Drawings, Executed Entirely by H...</td>\n",
       "      <td>2021</td>\n",
       "      <td>14</td>\n",
       "      <td>Jalisco</td>\n",
       "      <td>21</td>\n",
       "      <td>Arts and Antiques</td>\n",
       "      <td>320528</td>\n",
       "    </tr>\n",
       "    <tr>\n",
       "      <th>2629</th>\n",
       "      <td>2</td>\n",
       "      <td>Exports</td>\n",
       "      <td>219701</td>\n",
       "      <td>Paintings and Drawings, Executed Entirely by H...</td>\n",
       "      <td>2021</td>\n",
       "      <td>19</td>\n",
       "      <td>Nuevo León</td>\n",
       "      <td>21</td>\n",
       "      <td>Arts and Antiques</td>\n",
       "      <td>65148</td>\n",
       "    </tr>\n",
       "    <tr>\n",
       "      <th>2630</th>\n",
       "      <td>2</td>\n",
       "      <td>Exports</td>\n",
       "      <td>219702</td>\n",
       "      <td>Engravings, Prints and Lithographs</td>\n",
       "      <td>2021</td>\n",
       "      <td>9</td>\n",
       "      <td>Ciudad de México</td>\n",
       "      <td>21</td>\n",
       "      <td>Arts and Antiques</td>\n",
       "      <td>15761</td>\n",
       "    </tr>\n",
       "    <tr>\n",
       "      <th>2631</th>\n",
       "      <td>2</td>\n",
       "      <td>Exports</td>\n",
       "      <td>219702</td>\n",
       "      <td>Engravings, Prints and Lithographs</td>\n",
       "      <td>2021</td>\n",
       "      <td>14</td>\n",
       "      <td>Jalisco</td>\n",
       "      <td>21</td>\n",
       "      <td>Arts and Antiques</td>\n",
       "      <td>19016</td>\n",
       "    </tr>\n",
       "    <tr>\n",
       "      <th>2632</th>\n",
       "      <td>2</td>\n",
       "      <td>Exports</td>\n",
       "      <td>219703</td>\n",
       "      <td>Original Sculptures and Statuary, in any Material</td>\n",
       "      <td>2021</td>\n",
       "      <td>14</td>\n",
       "      <td>Jalisco</td>\n",
       "      <td>21</td>\n",
       "      <td>Arts and Antiques</td>\n",
       "      <td>191286</td>\n",
       "    </tr>\n",
       "  </tbody>\n",
       "</table>\n",
       "<p>2633 rows × 10 columns</p>\n",
       "</div>"
      ],
      "text/plain": [
       "      Flow ID     Flow  HS4 4 Digit ID  \\\n",
       "0           2  Exports           10101   \n",
       "1           2  Exports           10102   \n",
       "2           2  Exports           10102   \n",
       "3           2  Exports           10102   \n",
       "4           2  Exports           10102   \n",
       "...       ...      ...             ...   \n",
       "2628        2  Exports          219701   \n",
       "2629        2  Exports          219701   \n",
       "2630        2  Exports          219702   \n",
       "2631        2  Exports          219702   \n",
       "2632        2  Exports          219703   \n",
       "\n",
       "                                            HS4 4 Digit  Date Year  State ID  \\\n",
       "0                      Horses, Asses, Mules and Hinnies       2021        26   \n",
       "1                    Live Animals of the Bovine Species       2021         9   \n",
       "2                    Live Animals of the Bovine Species       2021        14   \n",
       "3                    Live Animals of the Bovine Species       2021        19   \n",
       "4                    Live Animals of the Bovine Species       2021        26   \n",
       "...                                                 ...        ...       ...   \n",
       "2628  Paintings and Drawings, Executed Entirely by H...       2021        14   \n",
       "2629  Paintings and Drawings, Executed Entirely by H...       2021        19   \n",
       "2630                 Engravings, Prints and Lithographs       2021         9   \n",
       "2631                 Engravings, Prints and Lithographs       2021        14   \n",
       "2632  Original Sculptures and Statuary, in any Material       2021        14   \n",
       "\n",
       "                 State  Chapter 4 Digit ID    Chapter 4 Digit  Trade Value  \n",
       "0               Sonora                   1    Animal Products        85204  \n",
       "1     Ciudad de México                   1    Animal Products      2858060  \n",
       "2              Jalisco                   1    Animal Products       412094  \n",
       "3           Nuevo León                   1    Animal Products      6916241  \n",
       "4               Sonora                   1    Animal Products     87167022  \n",
       "...                ...                 ...                ...          ...  \n",
       "2628           Jalisco                  21  Arts and Antiques       320528  \n",
       "2629        Nuevo León                  21  Arts and Antiques        65148  \n",
       "2630  Ciudad de México                  21  Arts and Antiques        15761  \n",
       "2631           Jalisco                  21  Arts and Antiques        19016  \n",
       "2632           Jalisco                  21  Arts and Antiques       191286  \n",
       "\n",
       "[2633 rows x 10 columns]"
      ]
     },
     "execution_count": 53,
     "metadata": {},
     "output_type": "execute_result"
    }
   ],
   "source": [
    "import mysql.connector\n",
    "import pandas as pd\n",
    "import warnings\n",
    "warnings.filterwarnings('ignore')\n",
    "\n",
    "mydb = mysql.connector.connect(\n",
    "  host=\"localhost\",\n",
    "  user=\"root\",\n",
    "  password=\"\",\n",
    "  database=\"productosinternacionales\"\n",
    ")\n",
    "\n",
    "query = \"SELECT * FROM productos2021csv;\"\n",
    "result_dataFrame = pd.read_sql(query,mydb)\n",
    "df"
   ]
  },
  {
   "cell_type": "markdown",
   "id": "09481fda",
   "metadata": {},
   "source": [
    "# Nombres, tipo y descripcion de cada variable de la tabla usada.\n",
    "\n",
    "El *tipo* esta en cursiva, y el **nombre de la variable** en negritas. Estos atributos son los utilizados en la elaboracion de nuestras consultas.\n",
    "\n",
    "* *INT* **Flow ID**: Este parametro define que tipo de flujo se realizó. Sus valores son 1 o 2.\n",
    "* *STRING* **Flow**: Es el termino concreto del flujo, importacion o exportacion. Coindicen con los valores Flow ID respectivamente.\n",
    "* *INT* **HS4 4 Digit ID**: Este parametro define, según el nivel del producto, a que area pertenece cada producto, usan 4 digitos. \n",
    "* *STRING* **HS4 4 Digit**: Es un parametro que detalla en mayor medida lo que el parametro chapter.\n",
    "* *DATE* **Date Year**: Es el año en el cual se hizo la transaccion.\n",
    "* *INT* **State ID**: Es el numero asignado a cada estado, numeros alfabeticamente, incluyendo la Ciudad de Mexico.\n",
    "* *STRING* **State**: Es el nombre del estado como texto.\n",
    "* *INT* **Chapter 4 Digit ID**: Este parametro define que tipo de producto se comercializa, adquiere valores del 1 al 21.\n",
    "* *STRING* **Chapter 4 Digit**: Es el tipo de producto que se comercializa, según el nivel del producto. \n",
    "* *INT* **Trade Value**: El valor neto en dolares generado por la transaccion.\n",
    "\n",
    "A continuacion esta es una simulacion del segmento de la tabla del Diagrama Entidad-Relacion generado al final de la consulta, es a partir de tomar el query de las ventas tipo internacional/exportacion la cual pertenece a un gran conjunto de una tabla mas grande que manejan en datamexico. Por lo que pueden faltar algun tipo de dependencias. Al final del documento se anexara el Glosario de terminos, que es parte de la documentacion de la base de datos original, para que se observe su magnitud.\n",
    "\n",
    "<img width=680 height=540 align=center src=\"DiagramaER.png\">"
   ]
  },
  {
   "cell_type": "markdown",
   "id": "b7e2c86e",
   "metadata": {},
   "source": [
    "Este diagrama de aqui, es la tabla que nosotros utilizamos en el proyecto, y es la tabla que se genero al final de la consulta realizada en la herramienta VizBuilder de datamexico.\n",
    "<img align=left src=\"Diagrama.png\">"
   ]
  },
  {
   "cell_type": "code",
   "execution_count": 44,
   "id": "68cfeaee",
   "metadata": {},
   "outputs": [
    {
     "data": {
      "text/plain": [
       "Index(['Flow ID', 'Flow', 'HS4 4 Digit ID', 'HS4 4 Digit', 'Date Year',\n",
       "       'State ID', 'State', 'Chapter 4 Digit ID', 'Chapter 4 Digit',\n",
       "       'Trade Value'],\n",
       "      dtype='object')"
      ]
     },
     "execution_count": 44,
     "metadata": {},
     "output_type": "execute_result"
    }
   ],
   "source": [
    "df.columns"
   ]
  },
  {
   "cell_type": "markdown",
   "id": "22b12212",
   "metadata": {},
   "source": [
    "# Consultas\n",
    "### Funcion en Python usando QUERYS de MySQL\n",
    "\n",
    "#### Ejemplo 1\n",
    "En la siguiente función obtendremos la ganancia total dependiendo del tipo de producto comercializado segun el estado, adjunto con un ejemplo:"
   ]
  },
  {
   "cell_type": "code",
   "execution_count": 16,
   "id": "949566f0",
   "metadata": {},
   "outputs": [],
   "source": [
    "def GanaciasTotalesPorProducto(Estado, Producto):\n",
    "    query = \"SELECT SUM(`Trade Value`) AS Ganancias FROM productos2021csv WHERE (`Chapter 4 Digit` = '\" + Producto + \"') AND (State = '\"+ Estado +\"');\"\n",
    "    dfq = pd.read_sql(query,mydb)\n",
    "    print(dfq) "
   ]
  },
  {
   "cell_type": "code",
   "execution_count": 17,
   "id": "86bde1ab",
   "metadata": {},
   "outputs": [
    {
     "name": "stdout",
     "output_type": "stream",
     "text": [
      "     Ganancias\n",
      "0  774293916.0\n",
      "    Ganancias\n",
      "0  83043312.0\n",
      "     Ganancias\n",
      "0  136640814.0\n",
      "    Ganancias\n",
      "0  84725204.0\n"
     ]
    }
   ],
   "source": [
    "GanaciasTotalesPorProducto(\"Sonora\", \"Animal Products\");\n",
    "GanaciasTotalesPorProducto(\"Ciudad de México\", \"Animal Products\");\n",
    "GanaciasTotalesPorProducto(\"Nuevo León\", \"Animal Products\");\n",
    "GanaciasTotalesPorProducto(\"Jalisco\", \"Animal Products\");"
   ]
  },
  {
   "cell_type": "code",
   "execution_count": 18,
   "id": "647c3bcf",
   "metadata": {},
   "outputs": [
    {
     "name": "stdout",
     "output_type": "stream",
     "text": [
      "      Ganancias\n",
      "0  5.097992e+09\n",
      "      Ganancias\n",
      "0  1.339697e+10\n",
      "      Ganancias\n",
      "0  2.104046e+10\n",
      "      Ganancias\n",
      "0  1.074169e+10\n"
     ]
    }
   ],
   "source": [
    "GanaciasTotalesPorProducto(\"Sonora\", \"Machines\");\n",
    "GanaciasTotalesPorProducto(\"Ciudad de México\", \"Machines\");\n",
    "GanaciasTotalesPorProducto(\"Nuevo León\", \"Machines\");\n",
    "GanaciasTotalesPorProducto(\"Jalisco\", \"Machines\");"
   ]
  },
  {
   "cell_type": "markdown",
   "id": "01c8c9ae",
   "metadata": {},
   "source": [
    "En este ejemplo, con el producto animal, podemos darnos cuenta que nuestro estado de Sonora es uno de los principales generadores y se podria decir que es un estado agricola, ya que los numeros derivados a este tipo de productos son mucho mas elevados. Pero si nos movemos a algo mas industrial, como el apartado de \"Machines\" o maquinaria, en español, podemos observar como los numeros no nos dan para nada la razon, y nos quedamos bastante cortos a comparacion de los estados fuertes del pais, por un gran margen. "
   ]
  },
  {
   "cell_type": "markdown",
   "id": "912b8020",
   "metadata": {},
   "source": [
    "#### Ejemplo 2\n",
    "En este ejemplo filtramos el valor maximo obtenido por las ventas de cada Estado."
   ]
  },
  {
   "cell_type": "code",
   "execution_count": 13,
   "id": "dc8316ef",
   "metadata": {},
   "outputs": [],
   "source": [
    "def GananciasTotalesPorEstado(Estado):\n",
    "    query = \"SELECT SUM(`Trade Value`) AS Ganancia FROM productos2021csv WHERE (State = '\"+ Estado +\"');\"\n",
    "    dfq = pd.read_sql(query,mydb)\n",
    "    print(dfq)\n"
   ]
  },
  {
   "cell_type": "code",
   "execution_count": 14,
   "id": "a07c0e8f",
   "metadata": {
    "scrolled": true
   },
   "outputs": [
    {
     "name": "stdout",
     "output_type": "stream",
     "text": [
      "       Ganancia\n",
      "0  4.703501e+10\n",
      "       Ganancia\n",
      "0  4.204961e+10\n",
      "       Ganancia\n",
      "0  2.528414e+10\n",
      "       Ganancia\n",
      "0  1.309532e+10\n"
     ]
    }
   ],
   "source": [
    "GananciasTotalesPorEstado('Nuevo León');\n",
    "GananciasTotalesPorEstado('Ciudad de México');\n",
    "GananciasTotalesPorEstado('Jalisco');\n",
    "GananciasTotalesPorEstado('Sonora');"
   ]
  },
  {
   "cell_type": "markdown",
   "id": "404e7653",
   "metadata": {},
   "source": [
    "En este ejemplo, podemos ver que las ventas de los estados con mas PIB del Pais, son bastante mas superiores a las de Sonora, el cual no es un estado economicamente muy fuerte, pero igualmente aportamos una gran cantidad de dinero en exportaciones, en especial a los Estados Unidos."
   ]
  },
  {
   "cell_type": "markdown",
   "id": "0bf9e569",
   "metadata": {},
   "source": [
    "#### Ejemplo 3 y 4\n",
    "En este ejemplo, se da como valor el Estado que se quiere buscar, y te regresa el producto exportado de mayor valor y a que area pertenece. \n",
    "\n",
    "Encontramos una anomalia en los datos. Para el valor maximo de Jalisco, Ciudad de México y Nuevo León, el tipo de dato no alcanza para la cifra que se espera de los datos de la Secretaria de Comercio.\n",
    "\n",
    "Tambien se puede cambiar la funcion SELECT MAX del QUERY por un SELECT MIN, y se pueden visualizar los diferentes tipos de datos de la misma manera."
   ]
  },
  {
   "cell_type": "code",
   "execution_count": 11,
   "id": "ca01a61c",
   "metadata": {},
   "outputs": [],
   "source": [
    "def GananciaMaximaPorProducto(Estado):\n",
    "    query = \"SELECT `HS4 4 Digit`, `Trade Value`,`Chapter 4 Digit` FROM productos2021csv WHERE (`Trade Value` = (SELECT MAX(`Trade Value`) FROM productos2021csv WHERE State = '\"+ Estado +\"'));\"\n",
    "    dfq = pd.read_sql(query,mydb)\n",
    "    print(dfq)"
   ]
  },
  {
   "cell_type": "code",
   "execution_count": 12,
   "id": "ca606532",
   "metadata": {},
   "outputs": [
    {
     "name": "stdout",
     "output_type": "stream",
     "text": [
      "                   HS4 4 Digit  Trade Value Chapter 4 Digit\n",
      "0  Electrical Wires and Cables   1547839483        Machines\n",
      "                                          HS4 4 Digit  Trade Value  \\\n",
      "0                         Other Fruit and Nuts, Fresh   2147483647   \n",
      "1   Undenatured Ethyl Alcohol Alcohol Content Volu...   2147483647   \n",
      "2            Oils of Petroleum or Bituminous Minerals   2147483647   \n",
      "3   Piston Engines, Rotary Engines or Reciprocatin...   2147483647   \n",
      "4                      Machinery for Air Conditioning   2147483647   \n",
      "5   Refrigerators, Freezers and other Refrigeratin...   2147483647   \n",
      "6   Data Processing Machines and Data Processing U...   2147483647   \n",
      "7   Data Processing Machines and Data Processing U...   2147483647   \n",
      "8   Telephones, Including Mobile Phones and those ...   2147483647   \n",
      "9   Telephones, Including Mobile Phones and those ...   2147483647   \n",
      "10                        Electrical Wires and Cables   2147483647   \n",
      "11     Tractors (Other than Tractors of Heading 8709)   2147483647   \n",
      "12  Motor Cars and other Vehicles Principally Desi...   2147483647   \n",
      "13  Motor Cars and other Vehicles Principally Desi...   2147483647   \n",
      "14  Motor Cars and other Vehicles Principally Desi...   2147483647   \n",
      "15          Motor Vehicles for the Transport of Goods   2147483647   \n",
      "16            Parts and Accessories of Motor Vehicles   2147483647   \n",
      "17            Parts and Accessories of Motor Vehicles   2147483647   \n",
      "\n",
      "       Chapter 4 Digit  \n",
      "0   Vegetable Products  \n",
      "1           Foodstuffs  \n",
      "2     Mineral Products  \n",
      "3             Machines  \n",
      "4             Machines  \n",
      "5             Machines  \n",
      "6             Machines  \n",
      "7             Machines  \n",
      "8             Machines  \n",
      "9             Machines  \n",
      "10            Machines  \n",
      "11      Transportation  \n",
      "12      Transportation  \n",
      "13      Transportation  \n",
      "14      Transportation  \n",
      "15      Transportation  \n",
      "16      Transportation  \n",
      "17      Transportation  \n",
      "                                          HS4 4 Digit  Trade Value  \\\n",
      "0                         Other Fruit and Nuts, Fresh   2147483647   \n",
      "1   Undenatured Ethyl Alcohol Alcohol Content Volu...   2147483647   \n",
      "2            Oils of Petroleum or Bituminous Minerals   2147483647   \n",
      "3   Piston Engines, Rotary Engines or Reciprocatin...   2147483647   \n",
      "4                      Machinery for Air Conditioning   2147483647   \n",
      "5   Refrigerators, Freezers and other Refrigeratin...   2147483647   \n",
      "6   Data Processing Machines and Data Processing U...   2147483647   \n",
      "7   Data Processing Machines and Data Processing U...   2147483647   \n",
      "8   Telephones, Including Mobile Phones and those ...   2147483647   \n",
      "9   Telephones, Including Mobile Phones and those ...   2147483647   \n",
      "10                        Electrical Wires and Cables   2147483647   \n",
      "11     Tractors (Other than Tractors of Heading 8709)   2147483647   \n",
      "12  Motor Cars and other Vehicles Principally Desi...   2147483647   \n",
      "13  Motor Cars and other Vehicles Principally Desi...   2147483647   \n",
      "14  Motor Cars and other Vehicles Principally Desi...   2147483647   \n",
      "15          Motor Vehicles for the Transport of Goods   2147483647   \n",
      "16            Parts and Accessories of Motor Vehicles   2147483647   \n",
      "17            Parts and Accessories of Motor Vehicles   2147483647   \n",
      "\n",
      "       Chapter 4 Digit  \n",
      "0   Vegetable Products  \n",
      "1           Foodstuffs  \n",
      "2     Mineral Products  \n",
      "3             Machines  \n",
      "4             Machines  \n",
      "5             Machines  \n",
      "6             Machines  \n",
      "7             Machines  \n",
      "8             Machines  \n",
      "9             Machines  \n",
      "10            Machines  \n",
      "11      Transportation  \n",
      "12      Transportation  \n",
      "13      Transportation  \n",
      "14      Transportation  \n",
      "15      Transportation  \n",
      "16      Transportation  \n",
      "17      Transportation  \n",
      "                                          HS4 4 Digit  Trade Value  \\\n",
      "0                         Other Fruit and Nuts, Fresh   2147483647   \n",
      "1   Undenatured Ethyl Alcohol Alcohol Content Volu...   2147483647   \n",
      "2            Oils of Petroleum or Bituminous Minerals   2147483647   \n",
      "3   Piston Engines, Rotary Engines or Reciprocatin...   2147483647   \n",
      "4                      Machinery for Air Conditioning   2147483647   \n",
      "5   Refrigerators, Freezers and other Refrigeratin...   2147483647   \n",
      "6   Data Processing Machines and Data Processing U...   2147483647   \n",
      "7   Data Processing Machines and Data Processing U...   2147483647   \n",
      "8   Telephones, Including Mobile Phones and those ...   2147483647   \n",
      "9   Telephones, Including Mobile Phones and those ...   2147483647   \n",
      "10                        Electrical Wires and Cables   2147483647   \n",
      "11     Tractors (Other than Tractors of Heading 8709)   2147483647   \n",
      "12  Motor Cars and other Vehicles Principally Desi...   2147483647   \n",
      "13  Motor Cars and other Vehicles Principally Desi...   2147483647   \n",
      "14  Motor Cars and other Vehicles Principally Desi...   2147483647   \n",
      "15          Motor Vehicles for the Transport of Goods   2147483647   \n",
      "16            Parts and Accessories of Motor Vehicles   2147483647   \n",
      "17            Parts and Accessories of Motor Vehicles   2147483647   \n",
      "\n",
      "       Chapter 4 Digit  \n",
      "0   Vegetable Products  \n",
      "1           Foodstuffs  \n",
      "2     Mineral Products  \n",
      "3             Machines  \n",
      "4             Machines  \n",
      "5             Machines  \n",
      "6             Machines  \n",
      "7             Machines  \n",
      "8             Machines  \n",
      "9             Machines  \n",
      "10            Machines  \n",
      "11      Transportation  \n",
      "12      Transportation  \n",
      "13      Transportation  \n",
      "14      Transportation  \n",
      "15      Transportation  \n",
      "16      Transportation  \n",
      "17      Transportation  \n"
     ]
    }
   ],
   "source": [
    "GananciaMaximaPorProducto('Sonora')\n",
    "GananciaMaximaPorProducto('Jalisco')\n",
    "GananciaMaximaPorProducto('Nuevo León')\n",
    "GananciaMaximaPorProducto('Ciudad de México')"
   ]
  },
  {
   "cell_type": "markdown",
   "id": "a67141dc",
   "metadata": {},
   "source": [
    "En el ejemplo 3, podemos observar que el tipo de dato INT no alcanza para visualizar los montos totales obtenidos por los estados de Ciudad De Mexico, Nuevo Leon y Jalisco, por lo tanto se repite multiples veces una misma cantidad, en cambio Sonora no es asi, la ganancia es muy alta por la venta de cables electricos. Aqui nos podemos dar cuenta que el tipo de ventas que realizan al extranjero estos estados, es mucho mas alta que cualquiera que pueda realizar Sonora, quizas aun no rompamos la barrera del INT, pero pronto estaremos ahi."
   ]
  },
  {
   "cell_type": "code",
   "execution_count": 8,
   "id": "c26172a5",
   "metadata": {},
   "outputs": [],
   "source": [
    "def GananciaMinimaPorProducto(Estado):\n",
    "    query = \"SELECT `HS4 4 Digit`, `Trade Value`,`Chapter 4 Digit` FROM productos2021csv WHERE (`Trade Value` = (SELECT MIN(`Trade Value`) FROM productos2021csv WHERE State = '\"+ Estado +\"'));\"\n",
    "    dfq = pd.read_sql(query,mydb)\n",
    "    print(dfq)"
   ]
  },
  {
   "cell_type": "code",
   "execution_count": 9,
   "id": "f9f83cd3",
   "metadata": {},
   "outputs": [
    {
     "name": "stdout",
     "output_type": "stream",
     "text": [
      "                                         HS4 4 Digit  Trade Value  \\\n",
      "0  Time Control Devices and Timers, with Clockwor...          299   \n",
      "\n",
      "  Chapter 4 Digit  \n",
      "0     Instruments  \n",
      "                            HS4 4 Digit  Trade Value  Chapter 4 Digit\n",
      "0  Waste and Scrap of Glass; Mass Glass           91  Stone and Glass\n",
      "                                         HS4 4 Digit  Trade Value  \\\n",
      "0  Aniseed, Badiana, Fennel, Coriander, Cumin or ...          373   \n",
      "\n",
      "      Chapter 4 Digit  \n",
      "0  Vegetable Products  \n",
      "                                         HS4 4 Digit  Trade Value  \\\n",
      "0  Aniseed, Badiana, Fennel, Coriander, Cumin or ...           30   \n",
      "\n",
      "      Chapter 4 Digit  \n",
      "0  Vegetable Products  \n"
     ]
    }
   ],
   "source": [
    "GananciaMinimaPorProducto('Jalisco')\n",
    "GananciaMinimaPorProducto('Sonora')\n",
    "GananciaMinimaPorProducto('Nuevo León')\n",
    "GananciaMinimaPorProducto('Ciudad de México')"
   ]
  },
  {
   "cell_type": "markdown",
   "id": "4ea0fab2",
   "metadata": {},
   "source": [
    "En el ejemplo 4, podemos observar que los estados de Monterrey y Ciudad de Mexico, exportan incluso pequeños paquetes como flores aromaticas y productos naturales, mientras que el estado de Jalisco, es el que por lo menos busca algo mas de ganancia, exportando cosas como relojes y sus derivados."
   ]
  },
  {
   "cell_type": "markdown",
   "id": "fc0175d5",
   "metadata": {},
   "source": [
    "#### Ejemplo 5\n",
    "Calculamos la ganancia promedio por Estado y Producto."
   ]
  },
  {
   "cell_type": "code",
   "execution_count": 89,
   "id": "c46973e6",
   "metadata": {},
   "outputs": [],
   "source": [
    "def GanaciasPromedioPorProducto(Estado, Producto):\n",
    "    query = \"SELECT AVG(`Trade Value`) AS GananciasPromedio FROM productos2021csv WHERE (`Chapter 4 Digit` = '\" + Producto + \"') AND (State = '\"+ Estado +\"');\"\n",
    "    dfq = pd.read_sql(query,mydb)\n",
    "    print(dfq)"
   ]
  },
  {
   "cell_type": "code",
   "execution_count": 6,
   "id": "f322e3c0",
   "metadata": {},
   "outputs": [
    {
     "name": "stdout",
     "output_type": "stream",
     "text": [
      "   GananciasPromedio\n",
      "0        156653915.5\n",
      "   GananciasPromedio\n",
      "0       1.461509e+08\n",
      "   GananciasPromedio\n",
      "0       1.087070e+07\n",
      "   GananciasPromedio\n",
      "0       2.970813e+06\n"
     ]
    }
   ],
   "source": [
    "GanaciasPromedioPorProducto('Ciudad de México', 'Mineral Products')\n",
    "GanaciasPromedioPorProducto('Sonora', 'Mineral Products')\n",
    "GanaciasPromedioPorProducto('Nuevo León', 'Mineral Products')\n",
    "GanaciasPromedioPorProducto('Jalisco', 'Mineral Products')"
   ]
  },
  {
   "cell_type": "markdown",
   "id": "c4a0a902",
   "metadata": {},
   "source": [
    "Si hablamos de la exportacion de recursos minerales, el estado de Sonora es el que lleva la delantera por mas margen, siendo uno de los estados del pais con mayor indice de ventas internacionales de este tipo de productos. Y siendo la Ciudad de Mexico el lugar donde menos se venden este tipo de productos, dado que no existen grandes empresas que se dediquen a ese tipo de comercio."
   ]
  },
  {
   "cell_type": "markdown",
   "id": "517cfc59",
   "metadata": {},
   "source": [
    "# Referencias\n",
    "* Base de Datos: https://datamexico.org/\n",
    "* Link de Medium: https://medium.com/@baeznation/ventas-internacionales-en-sonora-2021-bases-de-datos-ii-a2305fd56ab6\n",
    "* Diccionario de datos: https://github.com/jeiize/Libreta-BDDII/blob/main/dmx-diccionario-de-datos.xlsx"
   ]
  },
  {
   "cell_type": "code",
   "execution_count": null,
   "id": "0fddff9d",
   "metadata": {},
   "outputs": [],
   "source": []
  }
 ],
 "metadata": {
  "kernelspec": {
   "display_name": "Python 3 (ipykernel)",
   "language": "python",
   "name": "python3"
  },
  "language_info": {
   "codemirror_mode": {
    "name": "ipython",
    "version": 3
   },
   "file_extension": ".py",
   "mimetype": "text/x-python",
   "name": "python",
   "nbconvert_exporter": "python",
   "pygments_lexer": "ipython3",
   "version": "3.8.15"
  }
 },
 "nbformat": 4,
 "nbformat_minor": 5
}
