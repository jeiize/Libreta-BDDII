{
 "cells": [
  {
   "cell_type": "markdown",
   "id": "cca85ce3",
   "metadata": {},
   "source": [
    "<img width=200 height=250 align=center src=\"logouniversidad.png\">\n",
    " \n",
    "<h3 align=\"center\">                                              Bases de Datos II</h3> \n",
    "\n",
    "Alumnos:\n",
    "* Oscar Rene Soto Sánchez \n",
    "* Juan Carlos Rojas Coffey \n",
    "* Jesús Armando Báez Camacho\n"
   ]
  },
  {
   "cell_type": "markdown",
   "id": "9695386d",
   "metadata": {},
   "source": [
    "# Ventas Internacionales en Sonora (2021)\n",
    "\n",
    "<p style=\"text-align: justify;\"> Este proyecto busca contrastar el tipo de ventas y comercio realizado en el Estado de Sonora durante el año pasado, justo despues de salir de una pandemia que duro 2 años, y contrastar los datos de las ventas con los estados del pais con economias mas fuertes. </p>\n",
    "\n",
    "La base de datos utilizada la encontramos en datamexico.org.\n",
    "\n",
    "Se pretenden utilizar 4 tablas de datos diferentes, de 4 estados de la republica que representan las ventas internacionales realizadas en el periodo de 2021. \n",
    "\n",
    "* Sonora:https://datamexico.org/es/profile/geo/sonora-so\n",
    "* Nuevo Leon: https://datamexico.org/es/profile/geo/nuevo-leon-nl\n",
    "* Ciudad de Mexico: https://datamexico.org/es/profile/geo/ciudad-de-mexico-cx\n",
    "* Jalisco:https://datamexico.org/es/profile/geo/jalisco-jc\n",
    "\n",
    "De las 4 tablas construimos una sola, para metodos practicos, con la ayuda de la herramienta VizBuilder que ofrece la pagina de DataMexico.\n",
    "\n",
    "* Fuente: https://datamexico.org/es/vizbuilder"
   ]
  },
  {
   "cell_type": "code",
   "execution_count": 53,
   "id": "7e962b1c",
   "metadata": {},
   "outputs": [
    {
     "data": {
      "text/html": [
       "<div>\n",
       "<style scoped>\n",
       "    .dataframe tbody tr th:only-of-type {\n",
       "        vertical-align: middle;\n",
       "    }\n",
       "\n",
       "    .dataframe tbody tr th {\n",
       "        vertical-align: top;\n",
       "    }\n",
       "\n",
       "    .dataframe thead th {\n",
       "        text-align: right;\n",
       "    }\n",
       "</style>\n",
       "<table border=\"1\" class=\"dataframe\">\n",
       "  <thead>\n",
       "    <tr style=\"text-align: right;\">\n",
       "      <th></th>\n",
       "      <th>Flow ID</th>\n",
       "      <th>Flow</th>\n",
       "      <th>HS4 4 Digit ID</th>\n",
       "      <th>HS4 4 Digit</th>\n",
       "      <th>Date Year</th>\n",
       "      <th>State ID</th>\n",
       "      <th>State</th>\n",
       "      <th>Chapter 4 Digit ID</th>\n",
       "      <th>Chapter 4 Digit</th>\n",
       "      <th>Trade Value</th>\n",
       "    </tr>\n",
       "  </thead>\n",
       "  <tbody>\n",
       "    <tr>\n",
       "      <th>0</th>\n",
       "      <td>2</td>\n",
       "      <td>Exports</td>\n",
       "      <td>10101</td>\n",
       "      <td>Horses, Asses, Mules and Hinnies</td>\n",
       "      <td>2021</td>\n",
       "      <td>26</td>\n",
       "      <td>Sonora</td>\n",
       "      <td>1</td>\n",
       "      <td>Animal Products</td>\n",
       "      <td>85204</td>\n",
       "    </tr>\n",
       "    <tr>\n",
       "      <th>1</th>\n",
       "      <td>2</td>\n",
       "      <td>Exports</td>\n",
       "      <td>10102</td>\n",
       "      <td>Live Animals of the Bovine Species</td>\n",
       "      <td>2021</td>\n",
       "      <td>9</td>\n",
       "      <td>Ciudad de México</td>\n",
       "      <td>1</td>\n",
       "      <td>Animal Products</td>\n",
       "      <td>2858060</td>\n",
       "    </tr>\n",
       "    <tr>\n",
       "      <th>2</th>\n",
       "      <td>2</td>\n",
       "      <td>Exports</td>\n",
       "      <td>10102</td>\n",
       "      <td>Live Animals of the Bovine Species</td>\n",
       "      <td>2021</td>\n",
       "      <td>14</td>\n",
       "      <td>Jalisco</td>\n",
       "      <td>1</td>\n",
       "      <td>Animal Products</td>\n",
       "      <td>412094</td>\n",
       "    </tr>\n",
       "    <tr>\n",
       "      <th>3</th>\n",
       "      <td>2</td>\n",
       "      <td>Exports</td>\n",
       "      <td>10102</td>\n",
       "      <td>Live Animals of the Bovine Species</td>\n",
       "      <td>2021</td>\n",
       "      <td>19</td>\n",
       "      <td>Nuevo León</td>\n",
       "      <td>1</td>\n",
       "      <td>Animal Products</td>\n",
       "      <td>6916241</td>\n",
       "    </tr>\n",
       "    <tr>\n",
       "      <th>4</th>\n",
       "      <td>2</td>\n",
       "      <td>Exports</td>\n",
       "      <td>10102</td>\n",
       "      <td>Live Animals of the Bovine Species</td>\n",
       "      <td>2021</td>\n",
       "      <td>26</td>\n",
       "      <td>Sonora</td>\n",
       "      <td>1</td>\n",
       "      <td>Animal Products</td>\n",
       "      <td>87167022</td>\n",
       "    </tr>\n",
       "    <tr>\n",
       "      <th>...</th>\n",
       "      <td>...</td>\n",
       "      <td>...</td>\n",
       "      <td>...</td>\n",
       "      <td>...</td>\n",
       "      <td>...</td>\n",
       "      <td>...</td>\n",
       "      <td>...</td>\n",
       "      <td>...</td>\n",
       "      <td>...</td>\n",
       "      <td>...</td>\n",
       "    </tr>\n",
       "    <tr>\n",
       "      <th>2628</th>\n",
       "      <td>2</td>\n",
       "      <td>Exports</td>\n",
       "      <td>219701</td>\n",
       "      <td>Paintings and Drawings, Executed Entirely by H...</td>\n",
       "      <td>2021</td>\n",
       "      <td>14</td>\n",
       "      <td>Jalisco</td>\n",
       "      <td>21</td>\n",
       "      <td>Arts and Antiques</td>\n",
       "      <td>320528</td>\n",
       "    </tr>\n",
       "    <tr>\n",
       "      <th>2629</th>\n",
       "      <td>2</td>\n",
       "      <td>Exports</td>\n",
       "      <td>219701</td>\n",
       "      <td>Paintings and Drawings, Executed Entirely by H...</td>\n",
       "      <td>2021</td>\n",
       "      <td>19</td>\n",
       "      <td>Nuevo León</td>\n",
       "      <td>21</td>\n",
       "      <td>Arts and Antiques</td>\n",
       "      <td>65148</td>\n",
       "    </tr>\n",
       "    <tr>\n",
       "      <th>2630</th>\n",
       "      <td>2</td>\n",
       "      <td>Exports</td>\n",
       "      <td>219702</td>\n",
       "      <td>Engravings, Prints and Lithographs</td>\n",
       "      <td>2021</td>\n",
       "      <td>9</td>\n",
       "      <td>Ciudad de México</td>\n",
       "      <td>21</td>\n",
       "      <td>Arts and Antiques</td>\n",
       "      <td>15761</td>\n",
       "    </tr>\n",
       "    <tr>\n",
       "      <th>2631</th>\n",
       "      <td>2</td>\n",
       "      <td>Exports</td>\n",
       "      <td>219702</td>\n",
       "      <td>Engravings, Prints and Lithographs</td>\n",
       "      <td>2021</td>\n",
       "      <td>14</td>\n",
       "      <td>Jalisco</td>\n",
       "      <td>21</td>\n",
       "      <td>Arts and Antiques</td>\n",
       "      <td>19016</td>\n",
       "    </tr>\n",
       "    <tr>\n",
       "      <th>2632</th>\n",
       "      <td>2</td>\n",
       "      <td>Exports</td>\n",
       "      <td>219703</td>\n",
       "      <td>Original Sculptures and Statuary, in any Material</td>\n",
       "      <td>2021</td>\n",
       "      <td>14</td>\n",
       "      <td>Jalisco</td>\n",
       "      <td>21</td>\n",
       "      <td>Arts and Antiques</td>\n",
       "      <td>191286</td>\n",
       "    </tr>\n",
       "  </tbody>\n",
       "</table>\n",
       "<p>2633 rows × 10 columns</p>\n",
       "</div>"
      ],
      "text/plain": [
       "      Flow ID     Flow  HS4 4 Digit ID  \\\n",
       "0           2  Exports           10101   \n",
       "1           2  Exports           10102   \n",
       "2           2  Exports           10102   \n",
       "3           2  Exports           10102   \n",
       "4           2  Exports           10102   \n",
       "...       ...      ...             ...   \n",
       "2628        2  Exports          219701   \n",
       "2629        2  Exports          219701   \n",
       "2630        2  Exports          219702   \n",
       "2631        2  Exports          219702   \n",
       "2632        2  Exports          219703   \n",
       "\n",
       "                                            HS4 4 Digit  Date Year  State ID  \\\n",
       "0                      Horses, Asses, Mules and Hinnies       2021        26   \n",
       "1                    Live Animals of the Bovine Species       2021         9   \n",
       "2                    Live Animals of the Bovine Species       2021        14   \n",
       "3                    Live Animals of the Bovine Species       2021        19   \n",
       "4                    Live Animals of the Bovine Species       2021        26   \n",
       "...                                                 ...        ...       ...   \n",
       "2628  Paintings and Drawings, Executed Entirely by H...       2021        14   \n",
       "2629  Paintings and Drawings, Executed Entirely by H...       2021        19   \n",
       "2630                 Engravings, Prints and Lithographs       2021         9   \n",
       "2631                 Engravings, Prints and Lithographs       2021        14   \n",
       "2632  Original Sculptures and Statuary, in any Material       2021        14   \n",
       "\n",
       "                 State  Chapter 4 Digit ID    Chapter 4 Digit  Trade Value  \n",
       "0               Sonora                   1    Animal Products        85204  \n",
       "1     Ciudad de México                   1    Animal Products      2858060  \n",
       "2              Jalisco                   1    Animal Products       412094  \n",
       "3           Nuevo León                   1    Animal Products      6916241  \n",
       "4               Sonora                   1    Animal Products     87167022  \n",
       "...                ...                 ...                ...          ...  \n",
       "2628           Jalisco                  21  Arts and Antiques       320528  \n",
       "2629        Nuevo León                  21  Arts and Antiques        65148  \n",
       "2630  Ciudad de México                  21  Arts and Antiques        15761  \n",
       "2631           Jalisco                  21  Arts and Antiques        19016  \n",
       "2632           Jalisco                  21  Arts and Antiques       191286  \n",
       "\n",
       "[2633 rows x 10 columns]"
      ]
     },
     "execution_count": 53,
     "metadata": {},
     "output_type": "execute_result"
    }
   ],
   "source": [
    "import mysql.connector\n",
    "import pandas as pd\n",
    "import warnings\n",
    "warnings.filterwarnings('ignore')\n",
    "\n",
    "mydb = mysql.connector.connect(\n",
    "  host=\"localhost\",\n",
    "  user=\"root\",\n",
    "  password=\"\",\n",
    "  database=\"productosinternacionales\"\n",
    ")\n",
    "\n",
    "query = \"SELECT * FROM productos2021csv;\"\n",
    "result_dataFrame = pd.read_sql(query,mydb)\n",
    "df"
   ]
  },
  {
   "cell_type": "markdown",
   "id": "09481fda",
   "metadata": {},
   "source": [
    "# Nombres, tipo y descripcion de cada variable de la tabla usada.\n",
    "\n",
    "El *tipo* esta en cursiva, y el **nombre de la variable** en negritas.\n",
    "\n",
    "* *INT* **Flow ID**: Este parametro define que tipo de flujo se realizó. Sus valores son 1 o 2.\n",
    "* *STRING* **Flow**: Es el termino concreto del flujo, importacion o exportacion. Coindicen con los valores Flow ID respectivamente.\n",
    "* *INT* **HS4 4 Digit ID**: Este parametro define, según el nivel del producto, a que area pertenece cada producto, usan 4 digitos. \n",
    "* *STRING* **HS4 4 Digit**: Es un parametro que detalla en mayor medida lo que el parametro chapter.\n",
    "* *DATE* **Date Year**: Es el año en el cual se hizo la transaccion.\n",
    "* *INT* **State ID**: Es el numero asignado a cada estado, numeros alfabeticamente, incluyendo la Ciudad de Mexico.\n",
    "* *STRING* **State**: Es el nombre del estado como texto.\n",
    "* *INT* **Chapter 4 Digit ID**: Este parametro define que tipo de producto se comercializa, adquiere valores del 1 al 21.\n",
    "* *STRING* **Chapter 4 Digit**: Es el tipo de producto que se comercializa, según el nivel del producto. \n",
    "* *INT* **Trade Value**: El valor neto en dolares generado por la transaccion.\n",
    "\n",
    "A continuacion esta la tabla del Diagrama Entidad-Relacion generado al final de la consulta:\n",
    "\n",
    "<img width=680 height=540 align=center src=\"DiagramaER.png\">"
   ]
  },
  {
   "cell_type": "code",
   "execution_count": 44,
   "id": "68cfeaee",
   "metadata": {},
   "outputs": [
    {
     "data": {
      "text/plain": [
       "Index(['Flow ID', 'Flow', 'HS4 4 Digit ID', 'HS4 4 Digit', 'Date Year',\n",
       "       'State ID', 'State', 'Chapter 4 Digit ID', 'Chapter 4 Digit',\n",
       "       'Trade Value'],\n",
       "      dtype='object')"
      ]
     },
     "execution_count": 44,
     "metadata": {},
     "output_type": "execute_result"
    }
   ],
   "source": [
    "df.columns"
   ]
  },
  {
   "cell_type": "markdown",
   "id": "22b12212",
   "metadata": {},
   "source": [
    "# Consultas\n",
    "### Funcion en Python usando QUERYS de MySQL\n",
    "\n",
    "#### Ejemplo 1\n",
    "En la siguiente función obtendremos la ganancia total dependiendo del tipo de producto comercializado segun el estado, adjunto con un ejemplo:"
   ]
  },
  {
   "cell_type": "code",
   "execution_count": 54,
   "id": "949566f0",
   "metadata": {},
   "outputs": [],
   "source": [
    "def GanaciasTotalesPorProducto(Estado, Producto):\n",
    "    query = \"SELECT SUM(`Trade Value`) AS Ganancias FROM productos2021csv WHERE (`Chapter 4 Digit` = '\" + Producto + \"') AND (State = '\"+ Estado +\"');\"\n",
    "    dfq = pd.read_sql(query,mydb)\n",
    "    print(dfq) "
   ]
  },
  {
   "cell_type": "code",
   "execution_count": 55,
   "id": "86bde1ab",
   "metadata": {},
   "outputs": [
    {
     "name": "stdout",
     "output_type": "stream",
     "text": [
      "     Ganancias\n",
      "0  774293916.0\n"
     ]
    }
   ],
   "source": [
    "GanaciasTotalesPorProducto(\"Sonora\", \"Animal Products\");"
   ]
  },
  {
   "cell_type": "markdown",
   "id": "912b8020",
   "metadata": {},
   "source": [
    "#### Ejemplo 2\n",
    "En este ejemplo filtramos el valor maximo obtenido por las ventas de cada Estado."
   ]
  },
  {
   "cell_type": "code",
   "execution_count": 60,
   "id": "dc8316ef",
   "metadata": {},
   "outputs": [],
   "source": [
    "def GananciasTotalesPorEstado(Estado):\n",
    "    query = \"SELECT SUM(`Trade Value`) AS Ganancia FROM productos2021csv WHERE (State = '\"+ Estado +\"');\"\n",
    "    dfq = pd.read_sql(query,mydb)\n",
    "    print(dfq)\n"
   ]
  },
  {
   "cell_type": "code",
   "execution_count": 58,
   "id": "a07c0e8f",
   "metadata": {
    "scrolled": true
   },
   "outputs": [
    {
     "name": "stdout",
     "output_type": "stream",
     "text": [
      "       Ganancia\n",
      "0  4.703501e+10\n"
     ]
    }
   ],
   "source": [
    "GananciasTotalesPorEstado('Nuevo León');"
   ]
  },
  {
   "cell_type": "markdown",
   "id": "0bf9e569",
   "metadata": {},
   "source": [
    "#### Ejemplo 3 y 4\n",
    "En este ejemplo, se da como valor el Estado que se quiere buscar, y te regresa el producto exportado de mayor valor y a que area pertenece. \n",
    "\n",
    "Encontramos una anomalia en los datos. Para el valor maximo de Jalisco, Ciudad de México y Nuevo León, el tipo de dato no alcanza para la cifra que se espera de los datos de la Secretaria de Comercio.\n",
    "\n",
    "Tambien se puede cambiar la funcion SELECT MAX del QUERY por un SELECT MIN, y se pueden visualizar los diferentes tipos de datos de la misma manera."
   ]
  },
  {
   "cell_type": "code",
   "execution_count": 71,
   "id": "ca01a61c",
   "metadata": {},
   "outputs": [],
   "source": [
    "def GananciaMaximaPorProducto(Estado):\n",
    "    query = \"SELECT `HS4 4 Digit`, `Trade Value`,`Chapter 4 Digit` FROM productos2021csv WHERE (`Trade Value` = (SELECT MAX(`Trade Value`) FROM productos2021csv WHERE State = '\"+ Estado +\"'));\"\n",
    "    dfq = pd.read_sql(query,mydb)\n",
    "    print(dfq)"
   ]
  },
  {
   "cell_type": "code",
   "execution_count": 75,
   "id": "ca606532",
   "metadata": {},
   "outputs": [
    {
     "name": "stdout",
     "output_type": "stream",
     "text": [
      "                   HS4 4 Digit  Trade Value Chapter 4 Digit\n",
      "0  Electrical Wires and Cables   1547839483        Machines\n"
     ]
    }
   ],
   "source": [
    "GananciaMaximaPorProducto('Sonora')"
   ]
  },
  {
   "cell_type": "code",
   "execution_count": 76,
   "id": "c26172a5",
   "metadata": {},
   "outputs": [],
   "source": [
    "def GananciaMinimaPorProducto(Estado):\n",
    "    query = \"SELECT `HS4 4 Digit`, `Trade Value`,`Chapter 4 Digit` FROM productos2021csv WHERE (`Trade Value` = (SELECT MIN(`Trade Value`) FROM productos2021csv WHERE State = '\"+ Estado +\"'));\"\n",
    "    dfq = pd.read_sql(query,mydb)\n",
    "    print(dfq)"
   ]
  },
  {
   "cell_type": "code",
   "execution_count": 80,
   "id": "f9f83cd3",
   "metadata": {},
   "outputs": [
    {
     "name": "stdout",
     "output_type": "stream",
     "text": [
      "                                         HS4 4 Digit  Trade Value  \\\n",
      "0  Time Control Devices and Timers, with Clockwor...          299   \n",
      "\n",
      "  Chapter 4 Digit  \n",
      "0     Instruments  \n"
     ]
    }
   ],
   "source": [
    "GananciaMinimaPorProducto('Jalisco')"
   ]
  },
  {
   "cell_type": "markdown",
   "id": "fc0175d5",
   "metadata": {},
   "source": [
    "#### Ejemplo 5\n",
    "Calculamos la ganancia promedio por Estado y Producto."
   ]
  },
  {
   "cell_type": "code",
   "execution_count": 89,
   "id": "c46973e6",
   "metadata": {},
   "outputs": [],
   "source": [
    "def GanaciasPromedioPorProducto(Estado, Producto):\n",
    "    query = \"SELECT AVG(`Trade Value`) AS GananciasPromedio FROM productos2021csv WHERE (`Chapter 4 Digit` = '\" + Producto + \"') AND (State = '\"+ Estado +\"');\"\n",
    "    dfq = pd.read_sql(query,mydb)\n",
    "    print(dfq)"
   ]
  },
  {
   "cell_type": "code",
   "execution_count": 88,
   "id": "f322e3c0",
   "metadata": {},
   "outputs": [
    {
     "name": "stdout",
     "output_type": "stream",
     "text": [
      "     Ganancias\n",
      "0  156653915.5\n"
     ]
    }
   ],
   "source": [
    "GanaciasPromedioPorProducto('Ciudad de México', 'Mineral Products')"
   ]
  },
  {
   "cell_type": "markdown",
   "id": "517cfc59",
   "metadata": {},
   "source": [
    "# Referencias\n",
    "* Base de Datos: https://datamexico.org/"
   ]
  }
 ],
 "metadata": {
  "kernelspec": {
   "display_name": "Python 3 (ipykernel)",
   "language": "python",
   "name": "python3"
  },
  "language_info": {
   "codemirror_mode": {
    "name": "ipython",
    "version": 3
   },
   "file_extension": ".py",
   "mimetype": "text/x-python",
   "name": "python",
   "nbconvert_exporter": "python",
   "pygments_lexer": "ipython3",
   "version": "3.8.15"
  }
 },
 "nbformat": 4,
 "nbformat_minor": 5
}
